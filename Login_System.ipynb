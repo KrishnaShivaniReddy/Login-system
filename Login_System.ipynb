{
  "nbformat": 4,
  "nbformat_minor": 0,
  "metadata": {
    "colab": {
      "name": "Login_System.ipynb",
      "provenance": [],
      "collapsed_sections": []
    },
    "kernelspec": {
      "name": "python3",
      "display_name": "Python 3"
    },
    "language_info": {
      "name": "python"
    }
  },
  "cells": [
    {
      "cell_type": "code",
      "source": [
        "import re\n",
        "def register():\n",
        "  mail = input(\"Create a mailID: \")\n",
        "  password = input(\"Create a Password: \")\n",
        "  regg = r'\\b[A-Za-z0-9_]+@[a-z]+\\.com\\b'\n",
        "  l=u=d=p=0\n",
        "  if(re.fullmatch(regg, mail)):\n",
        "    #if mail condition satifies:\n",
        "        if (len(password) >5  and len(password)<16):\n",
        "          for i in password: \n",
        "            if (i.islower()):\n",
        "               l+=1            \n",
        "            if (i.isupper()):\n",
        "                u+=1            \n",
        "            if (i.isdigit()):\n",
        "                d+=1            \n",
        "            if(i=='@'or i=='$' or i=='_'):\n",
        "                p+=1           \n",
        "          if (l>=1 and u>=1 and p>=1 and d>=1 and l+p+u+d==len(password)):\n",
        "              #\"Valid Password and mailID\"\n",
        "              with open(\"/content/sample_data/newf1\",\"a\") as file:\n",
        "                file.write(\"Mail: \"+mail+\" \"+\"Password: \"+password+\"\\n\")\n",
        "          else:\n",
        "              print(\"Make sure the password has an upper digit, lower digit, numeric and one special character\")\n",
        "        else:\n",
        "            print(\"Make sure length of password is in between 5 and 16\")\n",
        "\n",
        "  else:\n",
        "    print(\"Enter an valid mailID\")\n",
        "    register()\n",
        "mail = input(\"Signup with your mailID: \")\n",
        "password = input(\"Enter your Password: \")\n",
        "with open(\"/content/sample_data/newf1\", \"r\") as file:\n",
        "    data = file.readlines()\n",
        "    k=t=0\n",
        "    for i in data:\n",
        "        word = i.split()\n",
        "        if mail in word:\n",
        "          k+=1\n",
        "          print(\"your mailId exist\")\n",
        "        if password in word:\n",
        "          t+=1\n",
        "          print(\"you entered correct password\")\n",
        "          \n",
        "    if k==0:\n",
        "      print(\"You need to create a mailID\")\n",
        "      register()\n",
        "    if t==0:\n",
        "      print(\"if you have forgetten password and retrieve your password press 1\")\n",
        "      inpu = int(input())\n",
        "      if inpu==1:\n",
        "        print(\"Enter your Username:\")\n",
        "        username=input()\n",
        "        for i in data:\n",
        "          word=i.split()\n",
        "          if username in word:\n",
        "            print(i)\n",
        "\n",
        "    \n",
        "\n"
      ],
      "metadata": {
        "colab": {
          "base_uri": "https://localhost:8080/"
        },
        "id": "2bypm0olxA29",
        "outputId": "252a8ed7-d0d6-417f-d510-015e455beaf0"
      },
      "execution_count": 49,
      "outputs": [
        {
          "output_type": "stream",
          "name": "stdout",
          "text": [
            "Signup with your mailID: krishna@gmail.com\n",
            "Enter your Password: FGjhj@1\n",
            "your mailId exist\n",
            "you entered correct password\n"
          ]
        }
      ]
    },
    {
      "cell_type": "code",
      "source": [
        ""
      ],
      "metadata": {
        "id": "Timwkwjl2X7B"
      },
      "execution_count": null,
      "outputs": []
    }
  ]
}